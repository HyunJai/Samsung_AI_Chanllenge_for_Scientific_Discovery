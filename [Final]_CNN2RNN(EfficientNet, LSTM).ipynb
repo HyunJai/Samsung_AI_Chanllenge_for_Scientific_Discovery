{
 "cells": [
  {
   "cell_type": "markdown",
   "metadata": {},
   "source": [
    "baseline.ipynb <br>\n",
    ".. ├ models <br>\n",
    ".. └ data <br>\n",
    ".... ├ train_sdf <br>\n",
    ".... ├ dev_sdf <br>\n",
    ".... ├ test_sdf <br>\n",
    ".... ├ train_imgs <br>\n",
    ".... ├ test_imgs <br>\n",
    ".... ├ sample_train.csv <br>\n",
    ".... ├ sample_test.csv <br>\n",
    ".... └ sample_submission.csv <br>"
   ]
  },
  {
   "cell_type": "markdown",
   "metadata": {},
   "source": [
    "## 사용 패키지"
   ]
  },
  {
   "cell_type": "code",
   "execution_count": 1,
   "metadata": {
    "id": "6opPu4z_p_wb"
   },
   "outputs": [],
   "source": [
    "import numpy as np\n",
    "import pandas as pd\n",
    "import matplotlib.pyplot as plt\n",
    "import cv2\n",
    "import rdkit\n",
    "\n",
    "from rdkit import Chem\n",
    "from rdkit.Chem import Draw\n",
    "from rdkit import RDLogger\n",
    "RDLogger.DisableLog('rdApp.*')\n",
    "from tqdm import tqdm\n",
    "\n",
    "import torch\n",
    "from torch import nn\n",
    "from torchvision import models\n",
    "from torch.utils.data import Dataset, DataLoader, SubsetRandomSampler, ConcatDataset\n",
    "\n",
    "from sklearn.model_selection import train_test_split\n",
    "\n",
    "import torchvision.transforms as T\n",
    "import torchvision.transforms.functional as TF\n",
    "from torch.nn import functional as F\n",
    "import random\n",
    "\n",
    "from albumentations import (\n",
    "    Compose, OneOf, Normalize, Resize, RandomResizedCrop, RandomCrop, HorizontalFlip, VerticalFlip, \n",
    "    RandomBrightness, RandomContrast, RandomBrightnessContrast, Rotate, ShiftScaleRotate, Cutout, \n",
    "    IAAAdditiveGaussianNoise, Transpose, Blur\n",
    "    )\n",
    "import albumentations as A\n",
    "from albumentations.pytorch import ToTensorV2\n",
    "from albumentations import ImageOnlyTransform\n",
    "\n",
    "import warnings\n",
    "warnings.filterwarnings('ignore')\n",
    "\n",
    "from torch_poly_lr_decay import PolynomialLRDecay\n",
    "from alphafold2_pytorch import Alphafold2"
   ]
  },
  {
   "cell_type": "code",
   "execution_count": 2,
   "metadata": {},
   "outputs": [
    {
     "name": "stdout",
     "output_type": "stream",
     "text": [
      "numpy verison : 1.19.2\n",
      "pandas version : 1.1.5\n",
      "opencv version : 4.5.3\n",
      "rdkit version : 2021.03.4\n",
      "torch version : 1.7.1\n"
     ]
    }
   ],
   "source": [
    "print('numpy verison :', np.__version__)\n",
    "print('pandas version :', pd.__version__)\n",
    "print('opencv version :', cv2.__version__)\n",
    "print('rdkit version :', rdkit.__version__)\n",
    "print('torch version :', torch.__version__)"
   ]
  },
  {
   "cell_type": "markdown",
   "metadata": {},
   "source": [
    "## 데이터 로드"
   ]
  },
  {
   "cell_type": "code",
   "execution_count": 3,
   "metadata": {
    "id": "7WZfRhyfp_wd"
   },
   "outputs": [],
   "source": [
    "train = pd.read_csv('/home/ubuntu/Samsung_Dacon/train2.csv')\n",
    "dev = pd.read_csv('/home/ubuntu/Samsung_Dacon/dev.csv')"
   ]
  },
  {
   "cell_type": "markdown",
   "metadata": {},
   "source": [
    "## 하이퍼파라미터"
   ]
  },
  {
   "cell_type": "code",
   "execution_count": 4,
   "metadata": {
    "id": "mBCHZd0Gp_wg"
   },
   "outputs": [],
   "source": [
    "device = torch.device(\"cuda\")\n",
    "BATCH_SIZE = 356\n",
    "EPOCHS = 400\n",
    "num_layers = 1\n",
    "dropout_rate = 0.1\n",
    "atten_dim = 128\n",
    "embedding_dim = 256\n",
    "learning_rate = 1e-3\n",
    "vision_pretrain = True\n",
    "save_path = f'/home/ubuntu/Samsung_Dacon/models/EFB1_test.pt'\n",
    "\n",
    "# best : tf_efficientnet_b1 / AdamW / Lr : 1e-6"
   ]
  },
  {
   "cell_type": "markdown",
   "metadata": {},
   "source": [
    "## SMILES Tokenizing"
   ]
  },
  {
   "cell_type": "code",
   "execution_count": 5,
   "metadata": {
    "id": "XP7FhxPLp_wf"
   },
   "outputs": [],
   "source": [
    "class SMILES_Tokenizer():\n",
    "    def __init__(self, max_length):\n",
    "        self.txt2idx = {}\n",
    "        self.idx2txt = {}\n",
    "        self.max_length = max_length\n",
    "    \n",
    "    def fit(self, SMILES_list):\n",
    "        unique_char = set()\n",
    "        for smiles in SMILES_list:\n",
    "            for char in smiles:\n",
    "                unique_char.add(char)\n",
    "        unique_char = sorted(list(unique_char))\n",
    "        for i, char in enumerate(unique_char):\n",
    "            self.txt2idx[char]=i+2\n",
    "            self.idx2txt[i+2]=char\n",
    "            \n",
    "    def txt2seq(self, texts):\n",
    "        seqs = []\n",
    "        for text in tqdm(texts):\n",
    "            seq = [0]*self.max_length\n",
    "            for i, t in enumerate(text):\n",
    "                if i == self.max_length:\n",
    "                    break\n",
    "                try:\n",
    "                    seq[i] = self.txt2idx[t]\n",
    "                except:\n",
    "                    seq[i] = 1\n",
    "            seqs.append(seq)\n",
    "        return np.array(seqs)"
   ]
  },
  {
   "cell_type": "code",
   "execution_count": 6,
   "metadata": {
    "colab": {
     "base_uri": "https://localhost:8080/"
    },
    "id": "Aj9oVC7Xp_wf",
    "outputId": "46e31b71-ae36-4ed9-f182-d0d2f806fceb"
   },
   "outputs": [],
   "source": [
    "max_len = train.SMILES.str.len().max()\n",
    "max_len\n",
    "tokenizer = SMILES_Tokenizer(max_len)\n",
    "tokenizer.fit(train.SMILES)"
   ]
  },
  {
   "cell_type": "code",
   "execution_count": 7,
   "metadata": {
    "colab": {
     "base_uri": "https://localhost:8080/"
    },
    "id": "v8TdltRhp_wf",
    "outputId": "62b78ec4-164d-4e35-ad03-d22ea01a83ad"
   },
   "outputs": [
    {
     "name": "stderr",
     "output_type": "stream",
     "text": [
      "100%|██████████| 30274/30274 [00:00<00:00, 48247.94it/s]\n"
     ]
    }
   ],
   "source": [
    "seqs = tokenizer.txt2seq(train.SMILES)\n",
    "labels = train[['Gap']].to_numpy()\n",
    "imgs = ('/home/ubuntu/Samsung_Dacon/train_imgs/'+train.uid+'.png').to_numpy()"
   ]
  },
  {
   "cell_type": "markdown",
   "metadata": {},
   "source": [
    "## 학습 데이터셋"
   ]
  },
  {
   "cell_type": "code",
   "execution_count": 8,
   "metadata": {
    "id": "DxosU_4Kp_wg",
    "scrolled": true
   },
   "outputs": [
    {
     "data": {
      "text/plain": [
       "((27000,), (27000, 265), (27000, 1), (3274,), (3274, 265), (3274, 1))"
      ]
     },
     "execution_count": 8,
     "metadata": {},
     "output_type": "execute_result"
    }
   ],
   "source": [
    "from sklearn.utils import shuffle\n",
    "from sklearn.preprocessing import StandardScaler\n",
    "\n",
    "imgs, seqs, labels = shuffle(imgs, seqs, labels, random_state=42)\n",
    "\n",
    "train_imgs = imgs[:27000]\n",
    "train_seqs = seqs[:27000]\n",
    "train_labels = labels[:27000]\n",
    "\n",
    "val_imgs = imgs[27000:]\n",
    "val_seqs = seqs[27000:]\n",
    "val_labels = labels[27000:]\n",
    "\n",
    "train_imgs.shape, train_seqs.shape, train_labels.shape, val_imgs.shape, val_seqs.shape, val_labels.shape"
   ]
  },
  {
   "cell_type": "code",
   "execution_count": 9,
   "metadata": {},
   "outputs": [],
   "source": [
    "import random\n",
    "import os\n",
    "\n",
    "def seed_torch(seed=42):\n",
    "    random.seed(seed)\n",
    "    os.environ['PYTHONHASHSEED'] = str(seed)\n",
    "    np.random.seed(seed)\n",
    "    torch.manual_seed(seed)\n",
    "    torch.cuda.manual_seed(seed)\n",
    "    torch.backends.cudnn.deterministic = True\n",
    "    \n",
    "seed_torch(seed=42)"
   ]
  },
  {
   "cell_type": "code",
   "execution_count": 10,
   "metadata": {
    "id": "Ir5slCDRp_wg"
   },
   "outputs": [],
   "source": [
    "class CustomDataset(Dataset):\n",
    "    def __init__(self, imgs, seqs, labels=None, mode='train', transform=None, preprocessing=None):\n",
    "        self.mode = mode\n",
    "        self.imgs = imgs\n",
    "        self.seqs = seqs\n",
    "        if self.mode=='train':\n",
    "            self.labels = labels\n",
    "        self.transform = transform\n",
    "        self.preprocessing = preprocessing\n",
    "            \n",
    "    def __len__(self):\n",
    "        return len(self.imgs)\n",
    "    \n",
    "    def __getitem__(self, i):\n",
    "        img = cv2.imread(self.imgs[i]).astype(np.float32)/255\n",
    "        img = np.transpose(img, (2,0,1))\n",
    "        if self.transform:\n",
    "            augmented = self.transform(image=img)\n",
    "            img = augmented['image']\n",
    "        if self.preprocessing:\n",
    "            pr = self.preprocessing(image=img)\n",
    "            img = pr['image']\n",
    "        \n",
    "        if self.mode == 'train':\n",
    "            return {\n",
    "                'img' : torch.tensor(img, dtype=torch.float32),\n",
    "                'seq' : torch.tensor(self.seqs[i], dtype=torch.long),\n",
    "                'label' : torch.tensor(self.labels[i], dtype=torch.float32)\n",
    "            }\n",
    "        else:\n",
    "            return {\n",
    "                'img' : torch.tensor(img, dtype=torch.float32),\n",
    "                'seq' : torch.tensor(self.seqs[i], dtype=torch.long),\n",
    "            }"
   ]
  },
  {
   "cell_type": "code",
   "execution_count": 11,
   "metadata": {},
   "outputs": [],
   "source": [
    "def get_training_augmentation(y=299,x=299):\n",
    "    return A.Compose([\n",
    "        A.Resize(y,x),\n",
    "        A.HorizontalFlip(p=0.5),\n",
    "#         A.VerticalFlip(p=0.5),\n",
    "        A.Rotate(90)\n",
    "        ])\n",
    "\n",
    "\n",
    "formatted_settings = {\n",
    "            'input_size': [3, 300, 300],\n",
    "            'input_range': [0, 1]\n",
    "}\n",
    "def preprocess_input(\n",
    "    x, mean=None, std=None, input_space=\"RGB\", input_range=None, **kwargs\n",
    "):\n",
    "\n",
    "    if input_space == \"BGR\":\n",
    "        x = x[..., ::-1].copy()\n",
    "\n",
    "    if input_range is not None:\n",
    "        if x.max() > 1 and input_range[1] == 1:\n",
    "            x = x / 255.0\n",
    "\n",
    "    if mean is not None:\n",
    "        mean = np.array(mean)\n",
    "        x = x - mean\n",
    "\n",
    "    if std is not None:\n",
    "        std = np.array(std)\n",
    "        x = x / std\n",
    "\n",
    "    return x\n",
    "\n",
    "def get_preprocessing(preprocessing_fn):\n",
    "    _transform = [\n",
    "#         A.Lambda(image=preprocessing_fn),\n",
    "#         A.Lambda(image=to_tensor, mask=to_tensor),\n",
    "#         ToTensorV2\n",
    "    ]\n",
    "    return A.Compose(_transform)\n",
    "\n",
    "def get_validation_augmentation(y=299,x=299):\n",
    "    return A.Compose([\n",
    "        A.Resize(y,x),\n",
    "        A.HorizontalFlip(p=0.5),\n",
    "#         A.VerticalFlip(p=0.5),\n",
    "        A.Rotate(90)\n",
    "        ])\n",
    "\n",
    "def to_tensor(x, **kwargs):\n",
    "    \"\"\"\n",
    "    Convert image or mask.\n",
    "    \"\"\"\n",
    "    return x.transpose(2, 0, 1).astype('float32')\n",
    "\n",
    "def norm(img):\n",
    "    img-=img.min()\n",
    "    return img/img.max()"
   ]
  },
  {
   "cell_type": "code",
   "execution_count": 12,
   "metadata": {
    "id": "GJfwH3Cop_wh"
   },
   "outputs": [],
   "source": [
    "import functools\n",
    "\n",
    "preprocessing_fn = functools.partial(preprocess_input, **formatted_settings)\n",
    "train_dataset = CustomDataset(train_imgs, train_seqs, train_labels,\n",
    "                              transform=get_training_augmentation(),\n",
    "                             preprocessing=get_preprocessing(preprocessing_fn)\n",
    "                             )\n",
    "val_dataset = CustomDataset(val_imgs, val_seqs, val_labels,\n",
    "                           transform=get_validation_augmentation(),\n",
    "                           preprocessing=get_preprocessing(preprocessing_fn)\n",
    "                           )\n",
    "\n",
    "train_dataloader = torch.utils.data.DataLoader(train_dataset,\n",
    "                                               batch_size=BATCH_SIZE,\n",
    "                                               num_workers=12,\n",
    "                                               shuffle=True,\n",
    "                                               pin_memory=True)\n",
    "val_dataloader = torch.utils.data.DataLoader(val_dataset,\n",
    "                                             batch_size=BATCH_SIZE,\n",
    "                                             num_workers=12,\n",
    "                                             shuffle=False,\n",
    "                                             pin_memory=True)"
   ]
  },
  {
   "cell_type": "code",
   "execution_count": null,
   "metadata": {
    "id": "PmG7KpwYp_wh"
   },
   "outputs": [],
   "source": [
    "sample_batch = next(iter(train_dataloader))\n",
    "sample_batch['img'].size(), sample_batch['seq'].size(), sample_batch['label'].size()\n",
    "sample_batch['img'].dtype, sample_batch['seq'].dtype, sample_batch['label'].dtype"
   ]
  },
  {
   "cell_type": "markdown",
   "metadata": {},
   "source": [
    "# 모델\n",
    "\n",
    "- EfficientNet에 LSTM을 연결한 CNN2RNN 모델\n",
    "\n",
    "### EfficientNet n_channels_dict\n",
    "- B1 : 1280 / B2 : 1408 / B3 : 1536 / B4 : 1792 / B5 : 2048 / B6 : 2304 / B7 : 2560"
   ]
  },
  {
   "cell_type": "code",
   "execution_count": null,
   "metadata": {},
   "outputs": [],
   "source": [
    "import timm\n",
    "\n",
    "class CNN_Encoder(nn.Module):\n",
    "    def __init__(self, embedding_dim, rate):\n",
    "        super(CNN_Encoder, self).__init__()\n",
    "        model = timm.create_model('tf_efficientnet_b1', pretrained=True)\n",
    "        modules = list(model.children())[:-2]\n",
    "        self.feature_extract_model = nn.Sequential(*modules)\n",
    "        self.dropout1 = nn.Dropout(rate)\n",
    "        self.fc = nn.Linear(1280, embedding_dim)\n",
    "        # ResNetRs : 2048\n",
    "        self.dropout2 = nn.Dropout(rate)\n",
    "        \n",
    "    def forward(self, x):\n",
    "        x = self.feature_extract_model(x)\n",
    "        x = x.permute(0,2,3,1)\n",
    "        x = x.view(x.size(0), -1, x.size(3))\n",
    "        x = self.dropout1(x)\n",
    "        x = nn.ReLU()(self.fc(x))\n",
    "        x = self.dropout2(x)\n",
    "        return x"
   ]
  },
  {
   "cell_type": "code",
   "execution_count": null,
   "metadata": {},
   "outputs": [],
   "source": [
    "import re\n",
    "import math\n",
    "import numpy as np\n",
    "\n",
    "import torch\n",
    "import torch.nn as nn\n",
    "from torch.autograd import Variable\n",
    "import torch.nn.functional as F\n",
    "\n",
    "from torch.nn.utils.rnn import pad_packed_sequence"
   ]
  },
  {
   "cell_type": "markdown",
   "metadata": {},
   "source": [
    "# Version 1 : Bi-LSTM * 2 "
   ]
  },
  {
   "cell_type": "code",
   "execution_count": null,
   "metadata": {},
   "outputs": [],
   "source": [
    "class RNN_Decoder(nn.Module):\n",
    "    def __init__(self, max_len, embedding_dim, num_layers, rate):\n",
    "        super(RNN_Decoder, self).__init__()\n",
    "        self.embedding = nn.Embedding(max_len, embedding_dim)\n",
    "        self.dropout = nn.Dropout(rate)\n",
    "        self.logsoftmax = nn.LogSoftmax(dim=1)\n",
    "        self.lstm1 = nn.LSTM(embedding_dim, embedding_dim, num_layers,\n",
    "                             bidirectional=True, batch_first=True)\n",
    "        self.lstm2 = nn.LSTM(embedding_dim*2, embedding_dim, num_layers,\n",
    "                            bidirectional=True, batch_first=True)\n",
    "        self.final_layer1 = nn.Linear(embedding_dim*2, embedding_dim*2)\n",
    "        self.final_layer2 = nn.Linear(embedding_dim*2, embedding_dim*2)\n",
    "        self.linear_global = nn.Linear(embedding_dim*2, 1)\n",
    "\n",
    "    def forward(self, enc_out, dec_inp):\n",
    "        with torch.no_grad():\n",
    "            embedded = self.embedding(dec_inp)\n",
    "        \n",
    "        embedded = self.dropout(embedded)\n",
    "        embedded = torch.cat([enc_out, embedded], dim=1)\n",
    "        self.lstm1.flatten_parameters()\n",
    "        hidden1, _ = self.lstm1(embedded)\n",
    "        \n",
    "        self.lstm2.flatten_parameters()\n",
    "        hidden2, _ = self.lstm2(hidden1)\n",
    "        \n",
    "        h_conc_linear1 = F.relu(self.final_layer1(hidden1))\n",
    "        h_conc_linear2 = F.relu(self.final_layer2(hidden2))\n",
    "        \n",
    "        \n",
    "        hidden = hidden1 + hidden2 + h_conc_linear1 + h_conc_linear2\n",
    "        \n",
    "        \n",
    "#         output = nn.ReLU()(self.final_layer(hidden))\n",
    "        output = self.linear_global(hidden.mean(1))\n",
    "#         output = hidden.mean(1)\n",
    "        return output"
   ]
  },
  {
   "cell_type": "markdown",
   "metadata": {},
   "source": [
    "# Version 2 : Bi-LSTM"
   ]
  },
  {
   "cell_type": "code",
   "execution_count": 17,
   "metadata": {},
   "outputs": [],
   "source": [
    "class RNN_Decoder(nn.Module):\n",
    "    def __init__(self, max_len, embedding_dim, num_layers, rate):\n",
    "        super(RNN_Decoder, self).__init__()\n",
    "        self.embedding = nn.Embedding(max_len, embedding_dim)\n",
    "        self.dropout = nn.Dropout(rate)\n",
    "        self.lstm = nn.LSTM(embedding_dim, embedding_dim, num_layers,\n",
    "                             bidirectional=True, batch_first=True)\n",
    "        self.linear_first = nn.Linear(2*embedding_dim, embedding_dim)\n",
    "        self.linear_first.bias.data.fill_(0)\n",
    "        self.linear_second = nn.Linear(embedding_dim, 1)\n",
    "        self.linear_second.bias.data.fill_(0)\n",
    "        \n",
    "    def forward(self, enc_out, dec_inp):\n",
    "        embedded = self.embedding(dec_inp)\n",
    "        \n",
    "        embedded = self.dropout(embedded)\n",
    "        embedded = torch.cat([enc_out, embedded], dim=1)\n",
    "#         self.lstm1.flatten_parameters()\n",
    "        outputs, _ = self.lstm(embedded)\n",
    "        \n",
    "        outputs = outputs[:,-1,:]\n",
    "        outputs = torch.flatten(outputs, 1)\n",
    "        outputs = F.tanh(self.linear_first(outputs))\n",
    "        outputs = self.linear_second(outputs)\n",
    "        \n",
    "        return outputs"
   ]
  },
  {
   "cell_type": "code",
   "execution_count": null,
   "metadata": {},
   "outputs": [],
   "source": [
    "class CNN2RNN(nn.Module):\n",
    "    def __init__(self, embedding_dim, max_len, num_layers, rate):\n",
    "        super(CNN2RNN, self).__init__()\n",
    "        self.cnn = CNN_Encoder(embedding_dim, rate)\n",
    "        self.rnn = RNN_Decoder(max_len, embedding_dim, num_layers, rate)\n",
    "        \n",
    "    def forward(self, img, seq):\n",
    "        cnn_output = self.cnn(img)\n",
    "        output = self.rnn(cnn_output, seq)\n",
    "        \n",
    "        return output"
   ]
  },
  {
   "cell_type": "code",
   "execution_count": null,
   "metadata": {},
   "outputs": [],
   "source": [
    "model = CNN2RNN(embedding_dim=embedding_dim, max_len=max_len, num_layers=num_layers, rate=dropout_rate)\n",
    "model = nn.DataParallel(model)\n",
    "model = model.to(device)"
   ]
  },
  {
   "cell_type": "markdown",
   "metadata": {},
   "source": [
    "## 학습 정의"
   ]
  },
  {
   "cell_type": "code",
   "execution_count": null,
   "metadata": {},
   "outputs": [],
   "source": [
    "# from adamp import AdamP\n",
    "\n",
    "# # define your params\n",
    "# optimizer = AdamP(model.parameters(), lr=1e-3, betas=(0.9, 0.999), weight_decay=1e-5)"
   ]
  },
  {
   "cell_type": "code",
   "execution_count": null,
   "metadata": {
    "id": "5C_GVYbcp_wl"
   },
   "outputs": [],
   "source": [
    "optimizer = torch.optim.AdamW(model.parameters(), lr=learning_rate, weight_decay=1e-4)\n",
    "scheduler = torch.optim.lr_scheduler.CosineAnnealingLR(optimizer, T_max=10, eta_min=1e-6)\n",
    "criterion1 = nn.SmoothL1Loss()\n",
    "criterion2 = nn.L1Loss()"
   ]
  },
  {
   "cell_type": "code",
   "execution_count": null,
   "metadata": {
    "id": "2-jW8B5qp_wm"
   },
   "outputs": [],
   "source": [
    "scaler = torch.cuda.amp.GradScaler()\n",
    "\n",
    "def train_step(batch_item, epoch, batch, training):\n",
    "    img = batch_item['img'].to(device)\n",
    "    seq = batch_item['seq'].to(device)\n",
    "    label = batch_item['label'].to(device)\n",
    "    if training is True:\n",
    "        model.train()\n",
    "\n",
    "        optimizer.zero_grad()\n",
    "        output = model(img, seq)\n",
    "        \n",
    "        with torch.cuda.amp.autocast():\n",
    "#             loss1 = criterion1(output, label)\n",
    "            loss = criterion2(output, label)\n",
    "#             loss = loss1 + loss2\n",
    "#             loss = 0.7*loss1 + 0.3*loss2\n",
    "\n",
    "        scaler.scale(loss).backward()  \n",
    "        scaler.unscale_(optimizer)\n",
    "        torch.nn.utils.clip_grad_norm_(model.parameters(), 5) \n",
    "        scaler.step(optimizer)\n",
    "        scaler.update()\n",
    "\n",
    "        scheduler.step()\n",
    "        \n",
    "        return loss\n",
    "\n",
    "    else:\n",
    "        model.eval()\n",
    "        with torch.no_grad():\n",
    "            output = model(img, seq)\n",
    "#             loss1 = criterion1(output, label)\n",
    "            loss = criterion2(output, label)\n",
    "#             loss = loss1 + loss2\n",
    "#             loss = 0.7*loss1 + 0.3*loss2\n",
    "            \n",
    "        return loss"
   ]
  },
  {
   "cell_type": "markdown",
   "metadata": {},
   "source": [
    "## 학습"
   ]
  },
  {
   "cell_type": "code",
   "execution_count": null,
   "metadata": {},
   "outputs": [],
   "source": [
    "dataset = ConcatDataset([train_dataset, val_dataset])"
   ]
  },
  {
   "cell_type": "code",
   "execution_count": null,
   "metadata": {},
   "outputs": [],
   "source": [
    "# loss_plot, val_loss_plot = [], []\n",
    "\n",
    "# from sklearn.model_selection import KFold\n",
    "# kfold = KFold(n_splits=5, shuffle=True, random_state=42)\n",
    "\n",
    "# best_models = []\n",
    "# for fold, (trn_idx, val_idx) in enumerate(kfold.split(dataset)):\n",
    "#     print(f'[fold: {fold}]')\n",
    "    \n",
    "#     torch.cuda.empty_cache()\n",
    "    \n",
    "#     train_sampler = SubsetRandomSampler(trn_idx)\n",
    "#     val_sampler = SubsetRandomSampler(val_idx)\n",
    "    \n",
    "    \n",
    "#     train_dataloader = torch.utils.data.DataLoader(dataset,\n",
    "#                                                batch_size=BATCH_SIZE,\n",
    "#                                                num_workers=12,\n",
    "#                                                 pin_memory=True,\n",
    "#                                                 sampler=train_sampler)\n",
    "#     val_dataloader = torch.utils.data.DataLoader(dataset,\n",
    "#                                              batch_size=BATCH_SIZE,\n",
    "#                                              num_workers=12,\n",
    "#                                                 pin_memory=True,\n",
    "#                                                 sampler=val_sampler)\n",
    "    \n",
    "#     for epoch in range(EPOCHS):\n",
    "#         total_loss, total_val_loss = 0, 0\n",
    "\n",
    "#         tqdm_dataset = tqdm(enumerate(train_dataloader))\n",
    "#         training = True\n",
    "#         for batch, batch_item in tqdm_dataset:\n",
    "#             batch_loss = train_step(batch_item, epoch, batch, training)\n",
    "#             total_loss += batch_loss\n",
    "\n",
    "#             tqdm_dataset.set_postfix({\n",
    "#                 'Fold': fold + 1,\n",
    "#                 'Epoch': epoch + 1,\n",
    "#                 'Loss': '{:06f}'.format(batch_loss.detach()),\n",
    "#                 'Total Loss' : '{:06f}'.format(total_loss/(batch+1))\n",
    "#             })\n",
    "#         loss_plot.append(total_loss/(batch+1))\n",
    "\n",
    "#         tqdm_dataset = tqdm(enumerate(val_dataloader))\n",
    "#         training = False\n",
    "#         for batch, batch_item in tqdm_dataset:\n",
    "#             batch_loss = train_step(batch_item, epoch, batch, training)\n",
    "#             total_val_loss += batch_loss\n",
    "\n",
    "#             tqdm_dataset.set_postfix({\n",
    "#                 'Fold': fold + 1,\n",
    "#                 'Epoch': epoch + 1,\n",
    "#                 'Val Loss': '{:06f}'.format(batch_loss.detach()),\n",
    "#                 'Total Val Loss' : '{:06f}'.format(total_val_loss/(batch+1))\n",
    "#             })\n",
    "#         val_loss_plot.append(total_val_loss/(batch+1))\n",
    "\n",
    "#         if np.min(val_loss_plot) == val_loss_plot[-1]:\n",
    "#     #         torch.save(model, save_path)\n",
    "#             torch.save({'state_dict': model.state_dict()}, '/home/ubuntu/Samsung_Dacon/models/Tf_EfficientB1/tf_efficientnet_b1-fold{}.pt'.format(fold))\n",
    "# #             torch.save({'state_dict': model.state_dict()}, save_path)"
   ]
  },
  {
   "cell_type": "code",
   "execution_count": null,
   "metadata": {
    "scrolled": true
   },
   "outputs": [],
   "source": [
    "loss_plot, val_loss_plot = [], []\n",
    "\n",
    "for epoch in range(EPOCHS):\n",
    "    total_loss, total_val_loss = 0, 0\n",
    "\n",
    "    tqdm_dataset = tqdm(enumerate(train_dataloader))\n",
    "    training = True\n",
    "    for batch, batch_item in tqdm_dataset:\n",
    "        batch_loss = train_step(batch_item, epoch, batch, training)\n",
    "        total_loss += batch_loss\n",
    "\n",
    "        tqdm_dataset.set_postfix({\n",
    "            'Epoch': epoch + 1,\n",
    "            'Loss': '{:06f}'.format(batch_loss.detach()),\n",
    "            'Total Loss' : '{:06f}'.format(total_loss/(batch+1))\n",
    "        })\n",
    "    loss_plot.append(total_loss/(batch+1))\n",
    "\n",
    "    tqdm_dataset = tqdm(enumerate(val_dataloader))\n",
    "    training = False\n",
    "    for batch, batch_item in tqdm_dataset:\n",
    "        batch_loss = train_step(batch_item, epoch, batch, training)\n",
    "        total_val_loss += batch_loss\n",
    "\n",
    "        tqdm_dataset.set_postfix({\n",
    "            'Epoch': epoch + 1,\n",
    "            'Val Loss': '{:06f}'.format(batch_loss.detach()),\n",
    "            'Total Val Loss' : '{:06f}'.format(total_val_loss/(batch+1))\n",
    "        })\n",
    "    val_loss_plot.append(total_val_loss/(batch+1))\n",
    "\n",
    "    if np.min(val_loss_plot) == val_loss_plot[-1]:\n",
    "#         torch.save(model, save_path)\n",
    "#             torch.save({'state_dict': model.state_dict()}, '/home/ubuntu/Samsung_Dacon/models/Tf_EfficientB1/tf_efficientnet_b1-fold{}.pt'.format(fold))\n",
    "        torch.save({'state_dict': model.state_dict()}, save_path)"
   ]
  },
  {
   "cell_type": "markdown",
   "metadata": {},
   "source": [
    "## 학습 결과"
   ]
  },
  {
   "cell_type": "code",
   "execution_count": 24,
   "metadata": {
    "id": "mn7sFqbSO4ag"
   },
   "outputs": [
    {
     "data": {
      "image/png": "[encoded data removed]",
      "text/plain": [
       "<Figure size 432x288 with 1 Axes>"
      ]
     },
     "metadata": {
      "needs_background": "light"
     },
     "output_type": "display_data"
    }
   ],
   "source": [
    "plt.plot(loss_plot, label='train_loss')\n",
    "plt.plot(val_loss_plot, label='val_loss')\n",
    "plt.xlabel('epoch')\n",
    "plt.ylabel('loss(mae)')\n",
    "plt.legend()\n",
    "plt.show()"
   ]
  },
  {
   "cell_type": "markdown",
   "metadata": {},
   "source": [
    "## 모델 복원"
   ]
  },
  {
   "cell_type": "code",
   "execution_count": 25,
   "metadata": {},
   "outputs": [],
   "source": [
    "# model = CNN2RNN(embedding_dim=embedding_dim, max_len=max_len, num_layers=num_layers, rate=dropout_rate)\n",
    "# model = nn.DataParallel(model)\n",
    "# model = model.to(device)\n",
    "\n",
    "# import copy\n",
    "# best_models=[]\n",
    "# save_path = f'/home/ubuntu/Samsung_Dacon/models/Tf_EfficientB1/tf_efficientnet_b1-fold1.pt'\n",
    "# checkpoint = torch.load(save_path)\n",
    "# model.load_state_dict(checkpoint['state_dict'])\n",
    "# best_models.append(copy.deepcopy(model))\n",
    "\n",
    "# save_path2 = f'/home/ubuntu/Samsung_Dacon/models/Tf_EfficientB1/tf_efficientnet_b1-fold2.pt'\n",
    "# checkpoint = torch.load(save_path2)\n",
    "# model.load_state_dict(checkpoint['state_dict'])\n",
    "# best_models.append(copy.deepcopy(model))\n",
    "\n",
    "# save_path3 = f'/home/ubuntu/Samsung_Dacon/models/Tf_EfficientB1/tf_efficientnet_b1-fold3.pt'\n",
    "# checkpoint = torch.load(save_path3)\n",
    "# model.load_state_dict(checkpoint['state_dict'])\n",
    "# best_models.append(copy.deepcopy(model))\n",
    "\n",
    "# save_path4 = f'/home/ubuntu/Samsung_Dacon/models/Tf_EfficientB1/tf_efficientnet_b1-fold4.pt'\n",
    "# checkpoint = torch.load(save_path4)\n",
    "# model.load_state_dict(checkpoint['state_dict'])\n",
    "# best_models.append(copy.deepcopy(model))"
   ]
  },
  {
   "cell_type": "code",
   "execution_count": 26,
   "metadata": {},
   "outputs": [
    {
     "data": {
      "text/plain": [
       "<All keys matched successfully>"
      ]
     },
     "execution_count": 26,
     "metadata": {},
     "output_type": "execute_result"
    }
   ],
   "source": [
    "# save_path = f'/home/ubuntu/Samsung_Dacon/models/Tf_EfficientB1/tf_efficientnet_b1-fold4.pt'\n",
    "checkpoint = torch.load(save_path)\n",
    "model.load_state_dict(checkpoint['state_dict'])"
   ]
  },
  {
   "cell_type": "markdown",
   "metadata": {},
   "source": [
    "## 테스트 데이터 및 제출 양식 로드"
   ]
  },
  {
   "cell_type": "code",
   "execution_count": 27,
   "metadata": {},
   "outputs": [],
   "source": [
    "test = pd.read_csv('/home/ubuntu/Samsung_Dacon/test.csv')\n",
    "submission = pd.read_csv('/home/ubuntu/Samsung_Dacon/sample_submission.csv')"
   ]
  },
  {
   "cell_type": "markdown",
   "metadata": {},
   "source": [
    "## 테스트 데이터 전처리"
   ]
  },
  {
   "cell_type": "code",
   "execution_count": 28,
   "metadata": {},
   "outputs": [],
   "source": [
    "# for idx, row in tqdm(test.iterrows()):\n",
    "#     file = row['uid']\n",
    "#     smiles = row['SMILES']\n",
    "#     m = Chem.MolFromSmiles(smiles)\n",
    "#     if m != None:\n",
    "#         img = Draw.MolToImage(m, size=(300,300))\n",
    "#         img.save(f'/home/ubuntu/Samsung_Dacon/test_imgs/{file}.png')"
   ]
  },
  {
   "cell_type": "markdown",
   "metadata": {},
   "source": [
    "## 테스트 데이터셋"
   ]
  },
  {
   "cell_type": "code",
   "execution_count": 29,
   "metadata": {},
   "outputs": [
    {
     "name": "stderr",
     "output_type": "stream",
     "text": [
      "100%|██████████| 602/602 [00:00<00:00, 42184.80it/s]\n"
     ]
    }
   ],
   "source": [
    "test_seqs = tokenizer.txt2seq(test.SMILES)\n",
    "test_imgs = ('/home/ubuntu/Samsung_Dacon/test_imgs/'+test.uid+'.png').to_numpy()"
   ]
  },
  {
   "cell_type": "code",
   "execution_count": 30,
   "metadata": {},
   "outputs": [],
   "source": [
    "test_dataset = CustomDataset(imgs=test_imgs,\n",
    "                             seqs=test_seqs,\n",
    "                             labels=None, mode='test',\n",
    "                            transform=get_validation_augmentation(),\n",
    "                           preprocessing=get_preprocessing(preprocessing_fn)\n",
    "                            )\n",
    "\n",
    "test_dataloader = torch.utils.data.DataLoader(test_dataset,\n",
    "                                              batch_size=BATCH_SIZE,\n",
    "                                              num_workers=12,\n",
    "                                             pin_memory=True,\n",
    "                                             shuffle=False)"
   ]
  },
  {
   "cell_type": "code",
   "execution_count": 31,
   "metadata": {},
   "outputs": [],
   "source": [
    "# test_dataset1 = CustomDataset(imgs=test_imgs,\n",
    "#                              seqs=test_seqs,\n",
    "#                              labels=None, mode='test',\n",
    "#                             transform=None,\n",
    "#                           preprocessing=get_preprocessing(preprocessing_fn)\n",
    "#                             )\n",
    "\n",
    "# test_dataloader1 = torch.utils.data.DataLoader(test_dataset1,\n",
    "#                                               batch_size=BATCH_SIZE,\n",
    "#                                               num_workers=12,\n",
    "#                                              pin_memory=True,\n",
    "#                                              shuffle=False)\n",
    "\n",
    "# test_dataset2 = CustomDataset(imgs=test_imgs,\n",
    "#                              seqs=test_seqs,\n",
    "#                              labels=None, mode='test',\n",
    "#                             transform=get_validation_augmentation(),\n",
    "#                            preprocessing=get_preprocessing(preprocessing_fn)\n",
    "#                             )\n",
    "\n",
    "# test_dataloader2 = torch.utils.data.DataLoader(test_dataset2,\n",
    "#                                               batch_size=BATCH_SIZE,\n",
    "#                                               num_workers=12,\n",
    "#                                              pin_memory=True,\n",
    "#                                              shuffle=False)\n",
    "\n",
    "# test_dataset3 = CustomDataset(imgs=test_imgs,\n",
    "#                              seqs=test_seqs,\n",
    "#                              labels=None, mode='test',\n",
    "#                             transform=get_validation_augmentation(),\n",
    "#                            preprocessing=get_preprocessing(preprocessing_fn)\n",
    "#                             )\n",
    "\n",
    "# test_dataloader3 = torch.utils.data.DataLoader(test_dataset3,\n",
    "#                                               batch_size=BATCH_SIZE,\n",
    "#                                               num_workers=12,\n",
    "#                                              pin_memory=True,\n",
    "#                                              shuffle=False)\n",
    "\n",
    "# test_dataset4 = CustomDataset(imgs=test_imgs,\n",
    "#                              seqs=test_seqs,\n",
    "#                              labels=None, mode='test',\n",
    "#                             transform=get_validation_augmentation(),\n",
    "#                            preprocessing=get_preprocessing(preprocessing_fn)\n",
    "#                             )\n",
    "\n",
    "# test_dataloader4 = torch.utils.data.DataLoader(test_dataset4,\n",
    "#                                               batch_size=BATCH_SIZE,\n",
    "#                                               num_workers=12,\n",
    "#                                              pin_memory=True,\n",
    "#                                              shuffle=False)"
   ]
  },
  {
   "cell_type": "markdown",
   "metadata": {},
   "source": [
    "## 추론 및 제출"
   ]
  },
  {
   "cell_type": "code",
   "execution_count": 32,
   "metadata": {},
   "outputs": [],
   "source": [
    "def predict(dataset):\n",
    "    model.eval()\n",
    "    result = []\n",
    "    for batch_item in dataset:\n",
    "        img = batch_item['img'].to(device)\n",
    "        seq = batch_item['seq'].to(device)\n",
    "        with torch.no_grad():\n",
    "            output = model(img, seq)\n",
    "        output = output.cpu().numpy()\n",
    "#         gap = (output[:, 0] - output[:, 1]) # + output[:,2])/2.0\n",
    "        gap = output[:,0]\n",
    "        gap = np.where(gap<0, 0, gap)\n",
    "        result.extend(list(gap))\n",
    "        \n",
    "    return result"
   ]
  },
  {
   "cell_type": "code",
   "execution_count": 33,
   "metadata": {},
   "outputs": [],
   "source": [
    "# prediction_list=[]\n",
    "# prediction_df = pd.read_csv('sample_submission.csv')\n",
    "\n",
    "# for test_dataloader in [test_dataloader1, test_dataloader2, test_dataloader3, test_dataloader4]:\n",
    "#     for model in best_models:\n",
    "#         prediction_array = np.zeros([prediction_df.shape[0],\n",
    "#                                 prediction_df.shape[1] -1])      \n",
    "#         for idx, sample in enumerate(test_dataloader):\n",
    "#             model.eval()\n",
    "#             img = sample['img'].to(device)\n",
    "#             seq = sample['seq'].to(device)\n",
    "#             with torch.no_grad():\n",
    "#                 probs = model(img, seq)\n",
    "#             probs = probs.cpu().numpy()\n",
    "#             gap = probs[:, 0]\n",
    "#         prediction_list.append(gap)\n",
    "# #             prediction_array[idx*BATCH_SIZE: (idx+1)*BATCH_SIZE,:]\\\n",
    "# #                       = gap.astype(np.float32)\n",
    "                \n",
    "# #         predictions_list.append(prediction_array[...,np.newaxis])\n",
    "\n",
    "# # # axis = 2를 기준으로 평균 (TTA, folds for each SEED)\n",
    "# # predictions_array = np.concatenate(predictions_list, axis = 2)\n",
    "# # predictions_mean = predictions_array.mean(axis = 2)\n",
    "\n",
    "# # # 평균 값이 0.5보다 클 경우 1 작으면 0\n",
    "# # predictions_mean = (predictions_mean > 0.5) * 1\n",
    "# # predictions_mean"
   ]
  },
  {
   "cell_type": "code",
   "execution_count": 34,
   "metadata": {},
   "outputs": [],
   "source": [
    "pred = predict(test_dataloader)"
   ]
  },
  {
   "cell_type": "code",
   "execution_count": 35,
   "metadata": {},
   "outputs": [],
   "source": [
    "submission['ST1_GAP(eV)'] = pred"
   ]
  },
  {
   "cell_type": "code",
   "execution_count": 36,
   "metadata": {},
   "outputs": [
    {
     "data": {
      "text/html": [
       "<div>\n",
       "<style scoped>\n",
       "    .dataframe tbody tr th:only-of-type {\n",
       "        vertical-align: middle;\n",
       "    }\n",
       "\n",
       "    .dataframe tbody tr th {\n",
       "        vertical-align: top;\n",
       "    }\n",
       "\n",
       "    .dataframe thead th {\n",
       "        text-align: right;\n",
       "    }\n",
       "</style>\n",
       "<table border=\"1\" class=\"dataframe\">\n",
       "  <thead>\n",
       "    <tr style=\"text-align: right;\">\n",
       "      <th></th>\n",
       "      <th>uid</th>\n",
       "      <th>ST1_GAP(eV)</th>\n",
       "    </tr>\n",
       "  </thead>\n",
       "  <tbody>\n",
       "    <tr>\n",
       "      <th>0</th>\n",
       "      <td>test_0</td>\n",
       "      <td>0.782390</td>\n",
       "    </tr>\n",
       "    <tr>\n",
       "      <th>1</th>\n",
       "      <td>test_1</td>\n",
       "      <td>2.250865</td>\n",
       "    </tr>\n",
       "    <tr>\n",
       "      <th>2</th>\n",
       "      <td>test_2</td>\n",
       "      <td>0.899378</td>\n",
       "    </tr>\n",
       "    <tr>\n",
       "      <th>3</th>\n",
       "      <td>test_3</td>\n",
       "      <td>0.595134</td>\n",
       "    </tr>\n",
       "    <tr>\n",
       "      <th>4</th>\n",
       "      <td>test_4</td>\n",
       "      <td>1.230900</td>\n",
       "    </tr>\n",
       "    <tr>\n",
       "      <th>...</th>\n",
       "      <td>...</td>\n",
       "      <td>...</td>\n",
       "    </tr>\n",
       "    <tr>\n",
       "      <th>597</th>\n",
       "      <td>test_597</td>\n",
       "      <td>0.124859</td>\n",
       "    </tr>\n",
       "    <tr>\n",
       "      <th>598</th>\n",
       "      <td>test_598</td>\n",
       "      <td>0.000000</td>\n",
       "    </tr>\n",
       "    <tr>\n",
       "      <th>599</th>\n",
       "      <td>test_599</td>\n",
       "      <td>0.031120</td>\n",
       "    </tr>\n",
       "    <tr>\n",
       "      <th>600</th>\n",
       "      <td>test_600</td>\n",
       "      <td>0.010209</td>\n",
       "    </tr>\n",
       "    <tr>\n",
       "      <th>601</th>\n",
       "      <td>test_601</td>\n",
       "      <td>0.602933</td>\n",
       "    </tr>\n",
       "  </tbody>\n",
       "</table>\n",
       "<p>602 rows × 2 columns</p>\n",
       "</div>"
      ],
      "text/plain": [
       "          uid  ST1_GAP(eV)\n",
       "0      test_0     0.782390\n",
       "1      test_1     2.250865\n",
       "2      test_2     0.899378\n",
       "3      test_3     0.595134\n",
       "4      test_4     1.230900\n",
       "..        ...          ...\n",
       "597  test_597     0.124859\n",
       "598  test_598     0.000000\n",
       "599  test_599     0.031120\n",
       "600  test_600     0.010209\n",
       "601  test_601     0.602933\n",
       "\n",
       "[602 rows x 2 columns]"
      ]
     },
     "execution_count": 36,
     "metadata": {},
     "output_type": "execute_result"
    }
   ],
   "source": [
    "submission"
   ]
  },
  {
   "cell_type": "code",
   "execution_count": 37,
   "metadata": {},
   "outputs": [],
   "source": [
    "submission.to_csv('dacon_baseline.csv', index=False)"
   ]
  },
  {
   "cell_type": "markdown",
   "metadata": {},
   "source": [
    "제출 API 사용법 => https://dacon.io/forum/403557"
   ]
  },
  {
   "cell_type": "code",
   "execution_count": null,
   "metadata": {},
   "outputs": [],
   "source": [
    "# from dacon_submit_api import dacon_submit_api \n",
    "\n",
    "# result = dacon_submit_api.post_submission_file(\n",
    "#     '/home/ubuntu/Samsung_Dacon/dacon_baseline.csv', \n",
    "#     '19342bef1dc6b917ad92a59c02df55db3395fcbe58c0ccdc5eb5761d9a27d5f7', \n",
    "#     '235789', \n",
    "#     '', \n",
    "#     'DACON_Baseline'\n",
    "# )"
   ]
  },
  {
   "cell_type": "markdown",
   "metadata": {},
   "source": [
    "# Public LB Score : 0.1871130054"
   ]
  },
  {
   "cell_type": "code",
   "execution_count": null,
   "metadata": {},
   "outputs": [],
   "source": []
  },
  {
   "cell_type": "code",
   "execution_count": null,
   "metadata": {},
   "outputs": [],
   "source": []
  }
 ],
 "metadata": {
  "kernelspec": {
   "display_name": "torch",
   "language": "python",
   "name": "torch"
  },
  "language_info": {
   "codemirror_mode": {
    "name": "ipython",
    "version": 3
   },
   "file_extension": ".py",
   "mimetype": "text/x-python",
   "name": "python",
   "nbconvert_exporter": "python",
   "pygments_lexer": "ipython3",
   "version": "3.6.5"
  }
 },
 "nbformat": 4,
 "nbformat_minor": 4
}
